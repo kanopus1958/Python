{
 "cells": [
  {
   "cell_type": "code",
   "execution_count": null,
   "metadata": {},
   "outputs": [],
   "source": []
  },
  {
   "cell_type": "markdown",
   "metadata": {},
   "source": [
    "#### Wandlung Datumstring in Timestamp und wieder zurück"
   ]
  },
  {
   "cell_type": "code",
   "execution_count": 41,
   "metadata": {},
   "outputs": [
    {
     "name": "stdout",
     "output_type": "stream",
     "text": [
      "Datum     = 16.03.2022\n",
      "Zeit      = 12:30:27\n",
      "DatumZeit = 16.03.2022 12:30:27\n",
      "Timestamp = 1647430227.0\n",
      "zurück    = 16.03.2022 12:30:27\n"
     ]
    }
   ],
   "source": [
    "# from datetime import datetime\n",
    "from rwm_mod01 import datum_zu_ts, ts_zu_datum\n",
    "\n",
    "datum = '16.03.2022'\n",
    "zeit = '12:30:27'\n",
    "datumzeit = datum + ' ' + zeit\n",
    "print(f'Datum     = {datum}')\n",
    "print(f'Zeit      = {zeit}')\n",
    "print(f'DatumZeit = {datumzeit}')\n",
    "timestamp = datum_zu_ts(datumzeit)\n",
    "print(f'Timestamp = {timestamp}')\n",
    "zurueck = ts_zu_datum(timestamp)\n",
    "print(f'zurück    = {zurueck}')\n"
   ]
  }
 ],
 "metadata": {
  "interpreter": {
   "hash": "aecd030d4c8316a52bf122072e28f84bcc79844c2684e041fef2e3f1d9f59078"
  },
  "kernelspec": {
   "display_name": "Python 3.10.2 64-bit",
   "language": "python",
   "name": "python3"
  },
  "language_info": {
   "codemirror_mode": {
    "name": "ipython",
    "version": 3
   },
   "file_extension": ".py",
   "mimetype": "text/x-python",
   "name": "python",
   "nbconvert_exporter": "python",
   "pygments_lexer": "ipython3",
   "version": "3.10.2"
  },
  "orig_nbformat": 4
 },
 "nbformat": 4,
 "nbformat_minor": 2
}

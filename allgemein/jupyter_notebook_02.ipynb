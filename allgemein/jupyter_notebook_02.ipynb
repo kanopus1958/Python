{
 "cells": [
  {
   "cell_type": "markdown",
   "metadata": {},
   "source": [
    "#### Timestamp aus Datum und Uhrzeit berechnen"
   ]
  },
  {
   "cell_type": "code",
   "execution_count": 1,
   "metadata": {},
   "outputs": [
    {
     "name": "stdout",
     "output_type": "stream",
     "text": [
      "\"09.08.2021\" : \"1628460000.0\"\n",
      "\"25.01.2022\" : \"1643065200.0\"\n",
      "\"28.01.2022\" : \"1643324400.0\"\n",
      "\"01.02.2022\" : \"1643670000.0\"\n",
      "\"02.02.2022\" : \"1643756400.0\"\n",
      "\"04.02.2022\" : \"1643929200.0\"\n",
      "\"08.02.2022\" : \"1644274800.0\"\n",
      "\"20.02.2022\" : \"1645311600.0\"\n",
      "\"23.02.2022\" : \"1645570800.0\"\n",
      "\"24.02.2022\" : \"1645657200.0\"\n",
      "\"28.02.2022\" : \"1646002800.0\"\n",
      "\"07.03.2022\" : \"1646607600.0\"\n",
      "\"10.03.2022\" : \"1646866800.0\"\n"
     ]
    }
   ],
   "source": [
    "from rwm_mod01 import datum_zu_ts\n",
    "\n",
    "dates = ['09.08.2021',\n",
    "         '25.01.2022',\n",
    "         '28.01.2022',\n",
    "         '01.02.2022',\n",
    "         '02.02.2022',\n",
    "         '04.02.2022',\n",
    "         '08.02.2022',\n",
    "         '20.02.2022',\n",
    "         '23.02.2022',\n",
    "         '24.02.2022',\n",
    "         '28.02.2022',\n",
    "         '07.03.2022',\n",
    "         '10.03.2022'\n",
    "         ]\n",
    "\n",
    "for datum in dates:\n",
    "    datum_zeit = datum + ' ' + \"00:00:00\"\n",
    "    print(f'\"{datum}\" : \"{datum_zu_ts(datum_zeit)}\"')\n"
   ]
  },
  {
   "cell_type": "markdown",
   "metadata": {},
   "source": [
    "#### Anzeige der aufrufenden Funktion (Parent - Funktion) mit Modul traceback"
   ]
  },
  {
   "cell_type": "code",
   "execution_count": 9,
   "metadata": {},
   "outputs": [
    {
     "name": "stdout",
     "output_type": "stream",
     "text": [
      "\n",
      "\u001b[93mInfo von Funktion \"first\"\n",
      "Hallo dies ist ein Test:\n",
      "\u001b[0m\n"
     ]
    }
   ],
   "source": [
    "import traceback\n",
    "from rwm_steuerung import color as c\n",
    "\n",
    "\n",
    "def first():\n",
    "    msg = f'Hallo dies ist ein Test'\n",
    "    second(msg)\n",
    "\n",
    "\n",
    "def second(msg):\n",
    "    print(f'\\n{c.yellow}Info von Funktion '\n",
    "          f'\"{traceback.extract_stack(limit=2)[-2][2]}\"\\n{msg}:\\n{c.reset}')\n",
    "\n",
    "first()\n"
   ]
  }
 ],
 "metadata": {
  "interpreter": {
   "hash": "aecd030d4c8316a52bf122072e28f84bcc79844c2684e041fef2e3f1d9f59078"
  },
  "kernelspec": {
   "display_name": "Python 3.10.4 64-bit",
   "language": "python",
   "name": "python3"
  },
  "language_info": {
   "codemirror_mode": {
    "name": "ipython",
    "version": 3
   },
   "file_extension": ".py",
   "mimetype": "text/x-python",
   "name": "python",
   "nbconvert_exporter": "python",
   "pygments_lexer": "ipython3",
   "version": "3.10.4"
  },
  "orig_nbformat": 4
 },
 "nbformat": 4,
 "nbformat_minor": 2
}

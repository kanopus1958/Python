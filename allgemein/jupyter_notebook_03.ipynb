{
 "cells": [
  {
   "cell_type": "markdown",
   "metadata": {},
   "source": [
    "#### Webseiten - Sraper"
   ]
  },
  {
   "cell_type": "code",
   "execution_count": 1,
   "metadata": {},
   "outputs": [
    {
     "name": "stdout",
     "output_type": "stream",
     "text": [
      "\n",
      "Info Wertpapierabfrage ist fehlerfrei erfolgt\n",
      "Return-Code der HTML-Seite = 200\n"
     ]
    }
   ],
   "source": [
    "import requests\n",
    "from bs4 import BeautifulSoup\n",
    "\n",
    "Url = \"https://www.fondsprofessionell.de/fonds/details/ISIN/DE0009807016/fondsID/FU_980701\"\n",
    "msg = \"\"\n",
    "\n",
    "page = requests.get(Url)\n",
    "if page.status_code != 200:\n",
    "    print(f'\\nFehler bei Wertpapierabfrage\\n'\n",
    "          f'Return-Code der HTML-Seite = {page.status_code}')\n",
    "else:\n",
    "    print(f'\\nInfo Wertpapierabfrage ist fehlerfrei erfolgt\\n'\n",
    "          f'Return-Code der HTML-Seite = {page.status_code}')\n"
   ]
  },
  {
   "cell_type": "code",
   "execution_count": 2,
   "metadata": {},
   "outputs": [
    {
     "name": "stdout",
     "output_type": "stream",
     "text": [
      "soup.h1.text : hausInvest\n",
      "0 NAV am 22.04.2022\n",
      "1 43,33 EUR\n",
      "0 Änderung (%)\n",
      "1 -0,01 (-0,02%)\n",
      "['NAV am 22.04.2022', '43,33 EUR', 'Änderung (%)', '-0,01 (-0,02%)']\n",
      "['NAV am 22.04.2022', '43,33 EUR', '-0,01 (-0,02%)']\n",
      "['NAV am 22.04.2022', '43.33 EUR', '-0.01 (-0.02%)']\n",
      "['NAV 22.04.2022', '43.33', '-0.01 -0.02']\n",
      "[['NAV', '22.04.2022'], ['43.33'], ['-0.01', '-0.02']]\n",
      "['NAV', '22.04.2022', '43.33', '-0.01', '-0.02']\n",
      "Aktienbezeichnung : hausInvest\n",
      "Handelsplatz      : NAV\n",
      "Datum             : 22.04.2022\n",
      "Wert              : 43.33\n",
      "Differenz EUR     : -0.01\n",
      "Differenz Proz    : -0.02\n",
      "\n"
     ]
    }
   ],
   "source": [
    "\n",
    "soup = BeautifulSoup(page.content, 'html.parser')\n",
    "# print(soup.prettify())\n",
    "print(f'soup.h1.text : {soup.h1.text}')\n",
    "msg += f'Aktienbezeichnung : {soup.h1.text}\\n'\n",
    "\n",
    "itemlist = []\n",
    "table = soup.find('table')\n",
    "# print(table.prettify())\n",
    "rows = table.find_all('tr')\n",
    "for row in rows:\n",
    "    # print(row.prettify())\n",
    "    cells = row.find_all('td')\n",
    "    for nr, cell in enumerate(cells):\n",
    "        wert = cell.text.strip()\n",
    "        itemlist.append(wert)\n",
    "        print(nr, wert)\n",
    "print(itemlist)\n",
    "del itemlist[2]\n",
    "print(itemlist)\n",
    "\n",
    "itemlist = [n.replace(',', '.') for n in itemlist]\n",
    "print(itemlist)\n",
    "itemlist = [n.replace(' am', '').replace(' EUR', '').replace('(', '').replace('%)', '') for n in itemlist]\n",
    "print(itemlist)\n",
    "itemlist = [n.split(' ') for n in itemlist]\n",
    "print(itemlist)\n",
    "resultlist = []\n",
    "for list in itemlist:\n",
    "    for item in list:\n",
    "        resultlist.append(item)\n",
    "print(resultlist)\n",
    "\n",
    "msg += f'Handelsplatz      : {resultlist[0]}\\n'\n",
    "msg += f'Datum             : {resultlist[1]}\\n'\n",
    "msg += f'Wert              : {resultlist[2]}\\n'\n",
    "msg += f'Differenz EUR     : {resultlist[3]}\\n'\n",
    "msg += f'Differenz Proz    : {resultlist[4]}\\n'\n",
    "print(msg)\n"
   ]
  }
 ],
 "metadata": {
  "interpreter": {
   "hash": "f4fde45515710cbe4f4cf44a8ddef1b298277709bd6c5462499553af68a98f2e"
  },
  "kernelspec": {
   "display_name": "Python 3.10.4 64-bit",
   "language": "python",
   "name": "python3"
  },
  "language_info": {
   "codemirror_mode": {
    "name": "ipython",
    "version": 3
   },
   "file_extension": ".py",
   "mimetype": "text/x-python",
   "name": "python",
   "nbconvert_exporter": "python",
   "pygments_lexer": "ipython3",
   "version": "3.10.4"
  },
  "orig_nbformat": 4
 },
 "nbformat": 4,
 "nbformat_minor": 2
}
